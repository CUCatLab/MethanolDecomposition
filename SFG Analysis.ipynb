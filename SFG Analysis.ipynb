{
 "cells": [
  {
   "cell_type": "markdown",
   "metadata": {},
   "source": [
    "<h1> Info </h1>\n",
    "\n",
    "<p>This script analyzes SFG data from Igor files. </p>\n",
    "\n",
    "---\n",
    "\n",
    "<p>Using Anaconda, the following external packages must be installed:</p>\n",
    "<p style=\"margin-left: 40px\">- lmfit</p>\n",
    "<p style=\"margin-left: 40px\">- igor</p>\n",
    "<p style=\"margin-left: 40px\">- xarray</p>\n",
    "<p style=\"margin-left: 40px\">- sif_reader</p>\n",
    "<p>To install standard external packages open a terminal (Anaconda Prompt in Windows or another terminal if using Linux/Mac) and type:</p>\n",
    "\n",
    "<p style=\"margin-left: 40px\">pip install [Package Name]</p>\n",
    "\n",
    "<p> sif_reader is not a standard package must be downloaded manually from <a href=https://github.com/fujiisoup/sif_reader>GitHub</a>.</p>\n",
    "<p>To run in Jypyter Lab, <a href=\"https://nodejs.org\">NodeJS</a> must be installed. After installing NodeJS, run the following command in a terminal:</p>\n",
    "<p></p>\n",
    "<p style=\"margin-left: 40px\">jupyter labextension install @jupyter-widgets/jupyterlab-manager</p>\n",
    "\n",
    "---\n",
    "\n",
    "Created by Jerry LaRue, larue@chapman.edu, 12/2018\n",
    "\n",
    "Last modified by Jerry LaRue, larue@chapman.edu, 06/2020"
   ]
  },
  {
   "cell_type": "markdown",
   "metadata": {},
   "source": [
    "# SFG data fitting background\n",
    "\n",
    "<p>The intensity of the SFG signal, $I_{SFG}$ is proportional to the second order susceptibility, $\\chi^{(2)}$:</p>\n",
    "<p>$$I_{SFG}(\\hbar\\omega)\\propto\\lvert\\chi^{(2)}\\rvert^{2}\\hspace{1cm}(1)$$</p>\n",
    "<table>\n",
    "  <col width=\"15\">\n",
    "  <col width=\"180\">\n",
    "  <tr>\n",
    "    <td>$\\chi^{(2)}$</td>\n",
    "    <td style=\"text-align:left\">Second order susceptibility</td>\n",
    "  </tr>\n",
    "</table> \n",
    "<p>The second order susceptibility has a non-resonant, $\\chi_{NR}^{(2)}$, and a resonant, $\\chi_{R}^{(2)}$, component:</p>\n",
    "<p>$$\\chi^{(2)}=\\chi_{NR}^{(2)}+\\chi_{R}^{(2)}\\hspace{1cm}(2)$$</p>\n",
    "<p>The non-resonant component is given by:</p>\n",
    "<p>$$\\chi_{NR}^{(2)} = A_{0}\\hspace{1cm}(3)$$</p>\n",
    "<p> The resonant component is given by:</p>\n",
    "<p>$$\\chi_{R}^{(2)}=\\frac{Ae^{i\\phi}}{\\hbar\\omega_{IR}-\\hbar\\omega_{0}+i\\Gamma}\\hspace{1cm}(4)$$</p>\n",
    "<table>\n",
    "  <col width=\"15\">\n",
    "  <col width=\"150\">\n",
    "  <tr>\n",
    "    <td>$A$</td>\n",
    "    <td style=\"text-align:left\">Amplitude</td>\n",
    "  </tr>\n",
    "  <tr>\n",
    "    <td>$\\omega_{0}$</td>\n",
    "    <td style=\"text-align:left\">Resonant frequency</td>\n",
    "  </tr>\n",
    "  <tr>\n",
    "    <td>$\\Gamma$</td>\n",
    "    <td style=\"text-align:left\">Linewidth</td>\n",
    "  </tr>\n",
    "</table> \n",
    "<p>The intensity of the SFG signal is then proportional to:</p>\n",
    "<p>$$I_{SFG}(\\hbar\\omega)\\propto\\lvert\\chi_{NR}^{(2)}+\\chi_{R}^{(2)}\\rvert^{2}\\hspace{1cm}(5)$$</p>\n",
    "<p>$$=\\chi_{NR}^{(2),2}+\\chi_{R}^{(2),2}+\\chi_{NR}^{(2)}\\chi_{R}^{(2)}\\hspace{1cm}(6)$$</p>\n",
    "<p>$$=A_{0}^{2}+\\frac{A^{2}e^{i2\\phi}}{(\\hbar\\omega_{IR}-\\hbar\\omega_{0}+i\\Gamma)^{2}}+\\frac{AA_{0}e^{i\\phi}}{\\hbar\\omega_{IR}-\\hbar\\omega_{0}+i\\Gamma}\\hspace{1cm}(7)$$</p>\n",
    "<p>To calculate the SFG signal, the intensity of the IR and VIS pulses, $I_{sum}$, must be taken into account:</p>\n",
    "<p>$$I_{SFG}(\\hbar\\omega)=\\lvert\\chi_{NR}^{(2)}+\\chi_{R}^{(2)}\\rvert^{2} I_{sum}\\hspace{1cm}(8)$$</p>\n",
    "<p>$I_{sum}$ is taken from the non-resonant background of the SFG data.</p>\n",
    "<p>The above code is for a single resonant peak. This can be readily expanded to multiple resonant peaks through the expansion of $\\chi_{R}^{(2)}$.</p>\n",
    "<p>To fit data, array w of length 4 * Number of Peaks + 1 will be created to store multipeak fitting parameters to equation (7):</p>\n",
    "<p>$$I_{SFG}(\\hbar\\omega)\\propto A_{0}^{2}+\\frac{A^{2}e^{i2\\phi}}{(\\hbar\\omega_{IR}-\\hbar\\omega_{0}+i\\Gamma)^{2}}+\\frac{AA_{0}e^{i\\phi}}{\\hbar\\omega_{IR}-\\hbar\\omega_{0}+i\\Gamma}\\hspace{1cm}(7)$$</p>\n",
    "<table>\n",
    "  <col width=\"15\">\n",
    "  <col width=\"250\">\n",
    "  <tr>\n",
    "    <td>w[0]</td>\n",
    "    <td style=\"text-align:left\">Amplitude for Non-Resonant Peak, $A_{0}$</td>\n",
    "  </tr>\n",
    "  <tr>\n",
    "    <td>w[1+3n]</td>\n",
    "    <td style=\"text-align:left\">Amplitude for Resonant Peak n+1, $A_{n+1}$</td>\n",
    "  </tr>\n",
    "  <tr>\n",
    "    <td>w[2+3n]</td>\n",
    "    <td style=\"text-align:left\">Phase for Resonant Peak n+1, $\\phi_{n+1}$</td>\n",
    "  </tr>\n",
    "  <tr>\n",
    "    <td>w[2+3n]</td>\n",
    "    <td style=\"text-align:left\">Frequency for Resonant Peak n+1, $\\omega_{0,n+1}$</td>\n",
    "  </tr>\n",
    "  <tr>\n",
    "    <td>w[2+3n]</td>\n",
    "    <td style=\"text-align:left\">Width for Resonant Peak n, $\\Gamma_{n+1}$</td>\n",
    "  </tr>\n",
    "</table> "
   ]
  },
  {
   "cell_type": "markdown",
   "metadata": {},
   "source": [
    "# Select Data"
   ]
  },
  {
   "cell_type": "code",
   "execution_count": 1,
   "metadata": {
    "jupyter": {
     "source_hidden": true
    }
   },
   "outputs": [
    {
     "data": {
      "application/vnd.jupyter.widget-view+json": {
       "model_id": "b1e20d1a1bac4ec68c155a8fc0e50455",
       "version_major": 2,
       "version_minor": 0
      },
      "text/plain": [
       "Dropdown(description='Select File', layout=Layout(width='70%'), options=('SFG181009_01 - Methanol+O-Ni - 2600-…"
      ]
     },
     "metadata": {},
     "output_type": "display_data"
    }
   ],
   "source": [
    "import numpy as np\n",
    "import igor.igorpy as igor\n",
    "import os\n",
    "import matplotlib.pyplot as plt\n",
    "import ipywidgets as widgets\n",
    "from ipywidgets import Button, Layout\n",
    "from IPython.display import clear_output\n",
    "from mpl_toolkits.mplot3d import Axes3D\n",
    "import matplotlib.pyplot as plt\n",
    "from matplotlib import cm\n",
    "from matplotlib.ticker import LinearLocator, FormatStrFormatter\n",
    "import lmfit\n",
    "from lmfit import model, Model\n",
    "import lmfit.models as models\n",
    "import math, cmath\n",
    "from pandas import DataFrame as df\n",
    "from igor import binarywave\n",
    "import string\n",
    "import re\n",
    "import csv\n",
    "import SFGTools\n",
    "from importlib import reload\n",
    "\n",
    "reload(SFGTools)\n",
    "dt = SFGTools.DataTools()\n",
    "\n",
    "##### Widgets #####\n",
    "\n",
    "ParameterFile = widgets.Dropdown(\n",
    "    options=dt.FileList(os.getcwd(),['.yaml']),\n",
    "    description='Select File',\n",
    "    layout=Layout(width='70%'),\n",
    "    style = {'description_width': '150px'},\n",
    "    disabled=False,\n",
    ")\n",
    "\n",
    "display(ParameterFile)"
   ]
  },
  {
   "cell_type": "markdown",
   "metadata": {},
   "source": [
    "# Data fitting"
   ]
  },
  {
   "cell_type": "code",
   "execution_count": 3,
   "metadata": {
    "jupyter": {
     "source_hidden": true
    }
   },
   "outputs": [
    {
     "data": {
      "application/vnd.jupyter.widget-view+json": {
       "model_id": "be46930a9d4f466f9f0ff234d0c2afb3",
       "version_major": 2,
       "version_minor": 0
      },
      "text/plain": [
       "HTML(value='<div align=\"center\">Methanol decomposition on O/Ni(111)</div>', placeholder='')"
      ]
     },
     "metadata": {},
     "output_type": "display_data"
    },
    {
     "data": {
      "image/png": "[encoded data removed]",
      "text/plain": [
       "<Figure size 576x360 with 1 Axes>"
      ]
     },
     "metadata": {
      "needs_background": "light"
     },
     "output_type": "display_data"
    },
    {
     "data": {
      "application/vnd.jupyter.widget-view+json": {
       "model_id": "a90535b0007940cbbba0a5fd8b4f3722",
       "version_major": 2,
       "version_minor": 0
      },
      "text/plain": [
       "Button(description='Fit Data', style=ButtonStyle())"
      ]
     },
     "metadata": {},
     "output_type": "display_data"
    },
    {
     "data": {
      "application/vnd.jupyter.widget-view+json": {
       "model_id": "0c47f30a5add4f229f2fbad77169b59b",
       "version_major": 2,
       "version_minor": 0
      },
      "text/plain": [
       "Output()"
      ]
     },
     "metadata": {},
     "output_type": "display_data"
    }
   ],
   "source": [
    " %matplotlib inline\n",
    "\n",
    "##### Button Functions #####\n",
    "\n",
    "def FitData_Clicked(b):\n",
    "    \n",
    "    with out:\n",
    "        clear_output(True)\n",
    "        sfg.ReloadData()\n",
    "        sfg.GetBackground()\n",
    "        sfg.FitData()\n",
    "        \n",
    "        ParametersToClipboard = widgets.Button(description=\"Copy parameters\")\n",
    "        ParametersToClipboard.on_click(ParametersToClipboard_Clicked)\n",
    "        display(ParametersToClipboard)\n",
    "\n",
    "def ParametersToClipboard_Clicked(b):\n",
    "    ToCopy = sfg.FitParameters\n",
    "    ToCopy.to_clipboard()\n",
    "\n",
    "##### Load Data #####\n",
    "\n",
    "sfg = SFGTools.SFG(ParameterFile.value)\n",
    "\n",
    "Description = widgets.HTML(\n",
    "    value= '<div align=\"center\">' + sfg.Parameters['Description'] + '</div>',\n",
    "    placeholder='',\n",
    "    description='',\n",
    ")\n",
    "\n",
    "display(Description)\n",
    "\n",
    "##### Plot Data #####\n",
    "\n",
    "Data = sfg.Data\n",
    "\n",
    "x = Data.index.values\n",
    "y = Data.columns.values\n",
    "z = np.transpose(Data.values)\n",
    "\n",
    "fig = plt.figure(figsize=(8,5))\n",
    "plt.xlabel('Wavenumber (cm$^-$$^1$)', fontsize=16)\n",
    "plt.ylabel('Temperature (K)', fontsize=16)\n",
    "plt.tick_params(axis = 'both', which = 'major', labelsize = 16)\n",
    "pcm = plt.pcolor(x, y, z, cmap='jet')\n",
    "plt.show()\n",
    "\n",
    "##### UI Controls #####\n",
    "\n",
    "Background_Type = widgets.RadioButtons(\n",
    "    options=['Data','Fit'],\n",
    "    value='Fit',\n",
    "    description='Type',\n",
    "    layout=Layout(width='20%'),\n",
    "    style = {'description_width': '100px'},\n",
    "    disabled=False\n",
    ")\n",
    "\n",
    "FitData = widgets.Button(description=\"Fit Data\")\n",
    "FitData.on_click(FitData_Clicked)\n",
    "\n",
    "display(FitData)\n",
    "\n",
    "out = widgets.Output()\n",
    "out"
   ]
  },
  {
   "cell_type": "markdown",
   "metadata": {},
   "source": [
    "# Plot trends"
   ]
  },
  {
   "cell_type": "code",
   "execution_count": null,
   "metadata": {},
   "outputs": [],
   "source": [
    " %matplotlib inline\n",
    "\n",
    "FitParameters = sfg.FitParameters\n",
    "\n",
    "def Unique_Parameters(l):\n",
    "    upar = []\n",
    "    [upar.append(x.split('_')[1]) for x in l if x.split('_')[1] not in upar]\n",
    "    return upar\n",
    "\n",
    "def UpdateTrends(b) :\n",
    "    clear_output(True)\n",
    "    with out :\n",
    "        clear_output(True)\n",
    "        Select = list()\n",
    "        for x in FitParameters.columns :\n",
    "            if ('_'+Select_Parameter.value) in x :\n",
    "                Select.append(x)\n",
    "        plt.figure(figsize=(10,6))\n",
    "        plt.xlabel('Temperature (K)')\n",
    "        plt.ylabel('Fit values (AU)')\n",
    "        plt.plot(FitParameters[Select],'.-',linewidth=2)\n",
    "        plt.legend(FitParameters[Select].columns)\n",
    "        plt.show()\n",
    "\n",
    "Parameters = Unique_Parameters(FitParameters.columns)\n",
    "Select_Parameter = widgets.Dropdown(\n",
    "    options=Parameters,\n",
    "    style = {'width': '100px','description_width': '150px'},\n",
    "    description='Select Parameter:',\n",
    "    disabled=False,\n",
    ")\n",
    "\n",
    "button_UpdateTrends = widgets.Button(description=\"Show Trends\")\n",
    "button_UpdateTrends.on_click(UpdateTrends)\n",
    "\n",
    "ParametersToClipboard = widgets.Button(description=\"Copy parameters\")\n",
    "ParametersToClipboard.on_click(ParametersToClipboard_Clicked)\n",
    "\n",
    "display(widgets.Box([Select_Parameter, button_UpdateTrends, ParametersToClipboard]))\n",
    "display()\n",
    "out = widgets.Output()\n",
    "out"
   ]
  },
  {
   "cell_type": "markdown",
   "metadata": {},
   "source": [
    "# Plot data & fits"
   ]
  },
  {
   "cell_type": "code",
   "execution_count": null,
   "metadata": {
    "jupyter": {
     "source_hidden": true
    }
   },
   "outputs": [],
   "source": [
    "%matplotlib inline\n",
    "\n",
    "Data = sfg.FitData\n",
    "Fits = sfg.Fits\n",
    "FitParameters = sfg.FitParameters\n",
    "Temperature = FitParameters.index\n",
    "\n",
    "def UpdatePlot(b) :\n",
    "    with out :\n",
    "        clear_output(True)\n",
    "        plt.figure(figsize=(10,6))\n",
    "        plt.xlabel('WaveNumber ($cm^{-1}$)')\n",
    "        plt.ylabel('Signal (AU)')\n",
    "        for i in Select_T.index :\n",
    "            x = sfg.FitData.index.values\n",
    "            y = Data[Select_T.options[i]].values\n",
    "            plt.plot(x,y,'.',label=str(Select_T.options[i])+' K - Data', linewidth=2)\n",
    "            if ShowFits.value :\n",
    "                x = sfg.Fits.index.values\n",
    "                y = Fits[Select_T.options[i]]\n",
    "                plt.plot(x,y, '-',label=str(Select_T.options[i])+' K - Fit', linewidth=2)\n",
    "        if ShowLegend.value :\n",
    "            plt.legend()\n",
    "        plt.show()\n",
    "\n",
    "if len(FitParameters) < 20 :\n",
    "    NumberRows = len(FitParameters)\n",
    "else :\n",
    "    NumberRows = 20\n",
    "\n",
    "Select_T = widgets.SelectMultiple(\n",
    "    options=Temperature,\n",
    "    style = {'width': '100px','description_width': '150px'},\n",
    "    rows=NumberRows,\n",
    "    layout=Layout(width='30%'),\n",
    "    description='Temperatures (K)',\n",
    "    disabled=False\n",
    ")\n",
    "\n",
    "button_UpdatePlot = widgets.Button(description=\"Update\")\n",
    "button_UpdatePlot.on_click(UpdatePlot)\n",
    "\n",
    "ShowFits = widgets.Checkbox(\n",
    "    value=True,\n",
    "    description='Show Fits?',\n",
    "    layout=Layout(width='18%'),\n",
    "    disabled=False\n",
    ")\n",
    "\n",
    "ShowLegend = widgets.Checkbox(\n",
    "    value=True,\n",
    "    description='Legend?',\n",
    "    layout=Layout(width='18%'),\n",
    "    disabled=False\n",
    ")\n",
    "\n",
    "display(widgets.Box([Select_T, button_UpdatePlot,ShowFits,ShowLegend]))\n",
    "out = widgets.Output()\n",
    "out"
   ]
  },
  {
   "cell_type": "code",
   "execution_count": null,
   "metadata": {},
   "outputs": [],
   "source": []
  }
 ],
 "metadata": {
  "kernelspec": {
   "display_name": "Python 3",
   "language": "python",
   "name": "python3"
  },
  "language_info": {
   "codemirror_mode": {
    "name": "ipython",
    "version": 3
   },
   "file_extension": ".py",
   "mimetype": "text/x-python",
   "name": "python",
   "nbconvert_exporter": "python",
   "pygments_lexer": "ipython3",
   "version": "3.7.4"
  }
 },
 "nbformat": 4,
 "nbformat_minor": 4
}

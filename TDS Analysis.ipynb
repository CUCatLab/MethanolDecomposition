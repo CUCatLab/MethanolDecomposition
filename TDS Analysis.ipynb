{
 "cells": [
  {
   "cell_type": "markdown",
   "metadata": {},
   "source": [
    "# Info\n",
    "\n",
    "This script analyzes TPD data. \n",
    "\n",
    "Uses:\n",
    "- lmfit\n",
    "- igor\n",
    "\n",
    "\n",
    "-----------------------\n",
    "Created by Jerry LaRue, larue@chapman.edu, 12/2018\n",
    "\n",
    "Last modified by Jerry LaRue, larue@chapman.edu, 06/2020"
   ]
  },
  {
   "cell_type": "markdown",
   "metadata": {},
   "source": [
    "# Select file"
   ]
  },
  {
   "cell_type": "code",
   "execution_count": 3,
   "metadata": {
    "jupyter": {
     "source_hidden": true
    }
   },
   "outputs": [
    {
     "data": {
      "application/vnd.jupyter.widget-view+json": {
       "model_id": "5e0cedec825a4b10bde75e7a3faff0c0",
       "version_major": 2,
       "version_minor": 0
      },
      "text/plain": [
       "Dropdown(description='Select File', layout=Layout(width='70%'), options=('SFG181022_01 - CH3OH_Ni - 2600-3200'…"
      ]
     },
     "metadata": {},
     "output_type": "display_data"
    }
   ],
   "source": [
    "import numpy as np\n",
    "import igor.igorpy as igor\n",
    "import os\n",
    "from os import listdir\n",
    "from os.path import isfile, join\n",
    "import matplotlib.pyplot as plt\n",
    "import ipywidgets as widgets\n",
    "from ipywidgets import Button, Layout\n",
    "from IPython.display import clear_output\n",
    "import math\n",
    "import struct\n",
    "from importlib import reload\n",
    "import plotly.express as px\n",
    "from pandas import DataFrame as df\n",
    "\n",
    "import TDSTools\n",
    "reload(TDSTools)\n",
    "\n",
    "dt = TDSTools.DataTools()\n",
    "\n",
    "ParameterFolder = os.getcwd()+'/Sample Data'\n",
    "\n",
    "##### Widgets #####\n",
    "\n",
    "ParameterFile = widgets.Dropdown(\n",
    "    options=dt.FileList(ParameterFolder,['.yaml']),\n",
    "    description='Select File',\n",
    "    layout=Layout(width='70%'),\n",
    "    style = {'description_width': '150px'},\n",
    "    disabled=False,\n",
    ")\n",
    "\n",
    "display(ParameterFile)\n",
    "\n",
    "##### Functions #####\n",
    "\n",
    "def FileList() :\n",
    "    return [f for f in listdir(FolderPath.value) if isfile(join(FolderPath.value, f))]"
   ]
  },
  {
   "cell_type": "code",
   "execution_count": 7,
   "metadata": {
    "jupyter": {
     "source_hidden": true
    }
   },
   "outputs": [
    {
     "data": {
      "application/vnd.jupyter.widget-view+json": {
       "model_id": "f639f923a0714f10a01140a5c606716d",
       "version_major": 2,
       "version_minor": 0
      },
      "text/plain": [
       "Box(children=(BoundedFloatText(value=5.0, description='Heating Rate (K/s)', layout=Layout(width='25%'), min=0.…"
      ]
     },
     "metadata": {},
     "output_type": "display_data"
    },
    {
     "data": {
      "application/vnd.jupyter.widget-view+json": {
       "model_id": "d6ecaac42d4e475d8194261198c5f35e",
       "version_major": 2,
       "version_minor": 0
      },
      "text/plain": [
       "Box(children=(BoundedFloatText(value=1.0, description='Desorption Barrier (eV)', layout=Layout(width='25%'), m…"
      ]
     },
     "metadata": {},
     "output_type": "display_data"
    },
    {
     "data": {
      "application/vnd.jupyter.widget-view+json": {
       "model_id": "a662059e71c4429f9663bfc2a1e552e9",
       "version_major": 2,
       "version_minor": 0
      },
      "text/plain": [
       "Button(description='Simulate Trace', style=ButtonStyle())"
      ]
     },
     "metadata": {},
     "output_type": "display_data"
    },
    {
     "data": {
      "application/vnd.jupyter.widget-view+json": {
       "model_id": "db82fc1783bf4a64a501e63160df5a3f",
       "version_major": 2,
       "version_minor": 0
      },
      "text/plain": [
       "Output()"
      ]
     },
     "metadata": {},
     "output_type": "display_data"
    }
   ],
   "source": [
    "##### Load Data #####\n",
    "\n",
    "tds = TDSTools.TDS((ParameterFolder,ParameterFile.value))\n",
    "Data = tds.Data\n",
    "Data = dt.TrimData(Data,115,2000)\n",
    "Masses = tds.Parameters['Masses']\n",
    "\n",
    "##### Functions #####\n",
    "\n",
    "def SimulateTrace_Clicked(b) :\n",
    "    with out :\n",
    "        clear_output(True)\n",
    "        \n",
    "        kB = 8.617e-5                 # eV/K\n",
    "        IntRate = 0\n",
    "        Rate = HeatingRate.value\n",
    "        Ni = InitialCoverage.value\n",
    "        Ea = DesorptionBarrier.value\n",
    "        nu = Prefactor.value\n",
    "        n = ReactionOrder.value\n",
    "\n",
    "        Size = len(Data)\n",
    "\n",
    "        Time = np.zeros((Size))\n",
    "        Trace = np.zeros((Size))\n",
    "        Coverage = np.zeros((Size))\n",
    "\n",
    "        for idx, Temperature in enumerate(Data['Temperature (K)']) :\n",
    "            Trace[idx] = nu*(Ni - IntRate)**n * math.exp(-Ea/(kB*Temperature))\n",
    "            if idx != 0 :\n",
    "                Time[idx] = PreviousTime + (Temperature - PreviousTemperature) / Rate\n",
    "                IntRate += Trace[idx] * (Temperature - PreviousTemperature)\n",
    "            Coverage[idx] = Ni - IntRate\n",
    "            if Coverage[idx] < 0 :\n",
    "                Coverage[idx] = 0\n",
    "                Trace[idx] = 0\n",
    "            PreviousTime = Time[idx]\n",
    "            PreviousTemperature = Temperature\n",
    "\n",
    "        Data['Sim'] = Trace*ScalingFactor.value\n",
    "        fig = px.line(Data,x='Temperature (K)',y=Data.columns)\n",
    "        fig.update_layout(yaxis_title='Intensity (au)',title_text=tds.Parameters['Description']+' with simulated trace',legend_title='',height=500)\n",
    "        fig.show()\n",
    "\n",
    "        CoverageSim = np.array((Data['Temperature (K)'].values,Coverage))\n",
    "        CoverageSim = df(np.transpose(CoverageSim),columns=('Temperature (K)','Coverage'))\n",
    "        fig = px.line(CoverageSim,x='Temperature (K)',y=CoverageSim.columns)\n",
    "        fig.update_layout(yaxis_title='Coverage',showlegend=False,height=100)\n",
    "        fig.show()\n",
    "\n",
    "##### Widgets #####\n",
    "\n",
    "HeatingRate = widgets.BoundedFloatText(\n",
    "    value=5,\n",
    "    min=0.1,\n",
    "    max=100,\n",
    "    step=0.1,\n",
    "    description='Heating Rate (K/s)',\n",
    "    layout=Layout(width='25%'),\n",
    "    style = {'description_width': '170px'},\n",
    "    disabled=False\n",
    ")\n",
    "\n",
    "InitialCoverage = widgets.BoundedFloatText(\n",
    "    value=1,\n",
    "    min=0,\n",
    "    max=1,\n",
    "    step=0.01,\n",
    "    description='Initial Coverage',\n",
    "    layout=Layout(width='30%'),\n",
    "    style = {'description_width': '160px'},\n",
    "    disabled=False\n",
    ")\n",
    "\n",
    "ScalingFactor = widgets.BoundedFloatText(\n",
    "    value=10000000,\n",
    "    min=0,\n",
    "    max=1000000000,\n",
    "    step=0.1,\n",
    "    description='Scaling Factor',\n",
    "    layout=Layout(width='28%'),\n",
    "    style = {'description_width': '160px'},\n",
    "    disabled=False\n",
    ")\n",
    "\n",
    "DesorptionBarrier = widgets.BoundedFloatText(\n",
    "    value=1,\n",
    "    min=0,\n",
    "    max=10,\n",
    "    step=0.01,\n",
    "    description='Desorption Barrier (eV)',\n",
    "    layout=Layout(width='25%'),\n",
    "    style = {'description_width': '170px'},\n",
    "    disabled=False\n",
    ")\n",
    "\n",
    "Prefactor = widgets.BoundedFloatText(\n",
    "    value=1e6,\n",
    "    min=0,\n",
    "    max=1e10,\n",
    "    step=1,\n",
    "    description='Prefactor (Hz)',\n",
    "    layout=Layout(width='30%'),\n",
    "    style = {'description_width': '160px'},\n",
    "    disabled=False\n",
    ")\n",
    "\n",
    "ReactionOrder = widgets.BoundedFloatText(\n",
    "    value=1,\n",
    "    min=1,\n",
    "    max=2,\n",
    "    step=1,\n",
    "    description='Reaction Order',\n",
    "    layout=Layout(width='28%'),\n",
    "    style = {'description_width': '160px'},\n",
    "    disabled=False\n",
    ")\n",
    "\n",
    "SimulateTrace = widgets.Button(description=\"Simulate Trace\")\n",
    "SimulateTrace.on_click(SimulateTrace_Clicked)\n",
    "\n",
    "display(widgets.Box([HeatingRate,InitialCoverage,ScalingFactor]))\n",
    "display(widgets.Box([DesorptionBarrier,Prefactor,ReactionOrder]))\n",
    "\n",
    "display(SimulateTrace)\n",
    "\n",
    "out = widgets.Output()\n",
    "\n",
    "##### Plot Data #####\n",
    "\n",
    "with out :\n",
    "    fig = px.line(Data,x='Temperature (K)',y=Data.columns)\n",
    "    fig.update_layout(yaxis_title='Intensity (au)',title_text=tds.Parameters['Description'],legend_title='',height=500)\n",
    "    fig.show()\n",
    "\n",
    "out"
   ]
  },
  {
   "cell_type": "code",
   "execution_count": null,
   "metadata": {
    "jupyter": {
     "source_hidden": true
    }
   },
   "outputs": [],
   "source": []
  }
 ],
 "metadata": {
  "kernelspec": {
   "display_name": "Python 3",
   "language": "python",
   "name": "python3"
  },
  "language_info": {
   "codemirror_mode": {
    "name": "ipython",
    "version": 3
   },
   "file_extension": ".py",
   "mimetype": "text/x-python",
   "name": "python",
   "nbconvert_exporter": "python",
   "pygments_lexer": "ipython3",
   "version": "3.7.4"
  }
 },
 "nbformat": 4,
 "nbformat_minor": 4
}

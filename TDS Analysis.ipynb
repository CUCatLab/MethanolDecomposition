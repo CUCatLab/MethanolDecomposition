{
 "cells": [
  {
   "cell_type": "markdown",
   "metadata": {},
   "source": [
    "# Info\n",
    "\n",
    "This script analyzes TPD data. \n",
    "\n",
    "The following external packages must be installed:\n",
    "- lmfit\n",
    "- igor\n",
    "- plotly\n",
    "- xarray\n",
    "\n",
    "To install standard external packages open a terminal (Anaconda Prompt in Windows or another terminal if using Linux/Mac) and type:\n",
    "\n",
    "<p style=\"margin-left: 40px\">pip install [package name]</p>\n",
    "\n",
    "To use widgets wtih Jupyter Lab, open a terminal window and type:\n",
    "\n",
    "<p style=\"margin-left: 40px\">conda install -c conda-forge nodejs</p>\n",
    "<p style=\"margin-left: 40px\">jupyter labextension install @jupyter-widgets/jupyterlab-manager</p>\n",
    "\n",
    "To show plotly figures correctly, open a terminal window and type:\n",
    "<p style=\"margin-left: 40px\">jupyter labextension install @jupyterlab/plotly-extension</p>\n",
    "\n",
    "-----------------------\n",
    "Created by Jerry LaRue, larue@chapman.edu, 12/2018\n",
    "\n",
    "Last modified by Jerry LaRue, larue@chapman.edu, 07/2020"
   ]
  },
  {
   "cell_type": "markdown",
   "metadata": {},
   "source": [
    "# Select file"
   ]
  },
  {
   "cell_type": "code",
   "execution_count": 1,
   "metadata": {
    "jupyter": {
     "source_hidden": true
    }
   },
   "outputs": [
    {
     "data": {
      "application/vnd.jupyter.widget-view+json": {
       "model_id": "d76ab8bf633d4489a6df3e12dc5485bc",
       "version_major": 2,
       "version_minor": 0
      },
      "text/plain": [
       "Dropdown(description='Select File', layout=Layout(width='70%'), options=('TPD181019_01 - CH3OH_O2_Ni', 'TPD181…"
      ]
     },
     "metadata": {},
     "output_type": "display_data"
    }
   ],
   "source": [
    "import numpy as np\n",
    "import igor.igorpy as igor\n",
    "import os\n",
    "from os import listdir\n",
    "from os.path import isfile, join\n",
    "import sys\n",
    "import matplotlib.pyplot as plt\n",
    "import ipywidgets as widgets\n",
    "from ipywidgets import Button, Layout\n",
    "from IPython.display import clear_output\n",
    "import math\n",
    "import struct\n",
    "from importlib import reload\n",
    "import plotly.express as px\n",
    "from pandas import DataFrame as df\n",
    "\n",
    "sys.path.append(os.getcwd() + '/Tools/')\n",
    "import TDSTools\n",
    "reload(TDSTools)\n",
    "\n",
    "dt = TDSTools.DataTools()\n",
    "\n",
    "ParameterFolder = os.getcwd()+'/TDS'\n",
    "\n",
    "##### Widgets #####\n",
    "\n",
    "ParameterFile = widgets.Dropdown(\n",
    "    options=dt.FileList(ParameterFolder,['.yaml']),\n",
    "    description='Select File',\n",
    "    layout=Layout(width='70%'),\n",
    "    style = {'description_width': '150px'},\n",
    "    disabled=False,\n",
    ")\n",
    "\n",
    "display(ParameterFile)\n",
    "\n",
    "##### Functions #####\n",
    "\n",
    "def FileList() :\n",
    "    return [f for f in listdir(FolderPath.value) if isfile(join(FolderPath.value, f))]"
   ]
  },
  {
   "cell_type": "code",
   "execution_count": 2,
   "metadata": {
    "jupyter": {
     "source_hidden": true
    }
   },
   "outputs": [
    {
     "data": {
      "application/vnd.jupyter.widget-view+json": {
       "model_id": "95f8fc1ae6374e859b6692a262ddc77e",
       "version_major": 2,
       "version_minor": 0
      },
      "text/plain": [
       "Box(children=(BoundedFloatText(value=0.0, description='Offset', layout=Layout(width='25%'), max=1000000.0, ste…"
      ]
     },
     "metadata": {},
     "output_type": "display_data"
    },
    {
     "data": {
      "application/vnd.jupyter.widget-view+json": {
       "model_id": "6763afcd270d430b8cc49204e076b6ea",
       "version_major": 2,
       "version_minor": 0
      },
      "text/plain": [
       "Box(children=(BoundedFloatText(value=1.0, description='Initial Coverage', layout=Layout(width='25%'), max=1.0,…"
      ]
     },
     "metadata": {},
     "output_type": "display_data"
    },
    {
     "data": {
      "application/vnd.jupyter.widget-view+json": {
       "model_id": "9fa782e1e7c841a9bca09ac862768519",
       "version_major": 2,
       "version_minor": 0
      },
      "text/plain": [
       "Box(children=(BoundedFloatText(value=0.0, description='Initial Coverage', layout=Layout(width='25%'), max=1.0,…"
      ]
     },
     "metadata": {},
     "output_type": "display_data"
    },
    {
     "data": {
      "application/vnd.jupyter.widget-view+json": {
       "model_id": "756c4956a8834dc9a708b757287bf335",
       "version_major": 2,
       "version_minor": 0
      },
      "text/plain": [
       "Button(description='Simulate Trace', style=ButtonStyle())"
      ]
     },
     "metadata": {},
     "output_type": "display_data"
    },
    {
     "data": {
      "application/vnd.jupyter.widget-view+json": {
       "model_id": "8467a7f7a1714e439e79579fe3a7da84",
       "version_major": 2,
       "version_minor": 0
      },
      "text/plain": [
       "Output()"
      ]
     },
     "metadata": {},
     "output_type": "display_data"
    }
   ],
   "source": [
    "##### Load Data #####\n",
    "\n",
    "tds = TDSTools.TDS((ParameterFolder,ParameterFile.value))\n",
    "Data = tds.Data\n",
    "Data = dt.TrimData(Data,115,2000)\n",
    "Masses = tds.Parameters['Masses']\n",
    "\n",
    "##### Functions #####\n",
    "\n",
    "def SimulateTrace_Clicked(b) :\n",
    "    with out :\n",
    "        clear_output(True)\n",
    "        \n",
    "        try :\n",
    "            tds.Parameters['HeatingRate'][0]\n",
    "        except : \n",
    "            Rate = 60                 # K/min\n",
    "        else :\n",
    "            Rate = tds.Parameters['HeatingRate'][0]\n",
    "        \n",
    "        kB = 8.617e-5                 # eV/K\n",
    "        yOffset = Offset.value\n",
    "        Scaling = ScalingFactor.value\n",
    "        \n",
    "        IntRate1 = 0\n",
    "        Ni1 = InitialCoverage1.value\n",
    "        Ea1 = DesorptionBarrier1.value\n",
    "        nu1 = Prefactor1.value\n",
    "        n1 = ReactionOrder1.value\n",
    "        \n",
    "        IntRate2 = 0\n",
    "        Ni2 = InitialCoverage2.value\n",
    "        Ea2 = DesorptionBarrier2.value\n",
    "        nu2 = Prefactor2.value\n",
    "        n2 = ReactionOrder2.value\n",
    "\n",
    "        Size = len(Data)\n",
    "        Time = np.zeros((Size))\n",
    "        Trace1 = np.zeros((Size))\n",
    "        Coverage1 = np.zeros((Size))\n",
    "        Trace2 = np.zeros((Size))\n",
    "        Coverage2 = np.zeros((Size))\n",
    "\n",
    "        for idx, Temperature in enumerate(Data['Temperature (K)']) :\n",
    "            Trace1[idx] = nu1*(Ni1 - IntRate1)**n1 * np.exp(-Ea1/(kB*Temperature))\n",
    "            Trace2[idx] = nu2*(Ni2 - IntRate2)**n2 * np.exp(-Ea2/(kB*Temperature))\n",
    "            if idx != 0 :\n",
    "                Time[idx] = PreviousTime + (Temperature - PreviousTemperature) / Rate\n",
    "                IntRate1 += Trace1[idx] * (Temperature - PreviousTemperature)\n",
    "                IntRate2 += Trace2[idx] * (Temperature - PreviousTemperature)\n",
    "            Coverage1[idx] = Ni1 - IntRate1\n",
    "            Coverage2[idx] = Ni2 - IntRate2\n",
    "            if IntRate1 >= Ni1 :\n",
    "                IntRate1 = Ni1\n",
    "                Coverage1[idx] = 0\n",
    "            if IntRate2 >= Ni2 :\n",
    "                IntRate2 = Ni2\n",
    "                Coverage2[idx] = 0\n",
    "            if Coverage1[idx] < 0 or Coverage1[idx] > Ni1 :\n",
    "                Coverage1[idx] = 0\n",
    "                Trace1[idx] = 0\n",
    "            if Coverage2[idx] < 0 or Coverage2[idx] > Ni2 :\n",
    "                Coverage2[idx] = 0\n",
    "                Trace2[idx] = 0\n",
    "            PreviousTime = Time[idx]\n",
    "            PreviousTemperature = Temperature\n",
    "        \n",
    "        Trace = Trace1 + Trace2\n",
    "        Data['Sim'] = Trace*Scaling + yOffset\n",
    "        fig = px.line(Data,x='Temperature (K)',y=Data.columns)\n",
    "        fig.update_layout(yaxis_title='Intensity (au)',title_text=tds.Parameters['Description']+' with simulated trace',legend_title='',height=500)\n",
    "        fig.show()\n",
    "\n",
    "        CoverageSim = np.array((Data['Temperature (K)'].values,Coverage1+Coverage2))\n",
    "        CoverageSim = df(np.transpose(CoverageSim),columns=('Temperature (K)','Coverage'))\n",
    "        fig = px.line(CoverageSim,x='Temperature (K)',y=CoverageSim.columns)\n",
    "        fig.update_layout(yaxis_title='Coverage',showlegend=False,height=100)\n",
    "        fig.show()\n",
    "\n",
    "##### Widgets #####\n",
    "\n",
    "Offset = widgets.BoundedFloatText(\n",
    "    value=0,\n",
    "    min=0,\n",
    "    max=1000000,\n",
    "    step=0.1,\n",
    "    description='Offset',\n",
    "    layout=Layout(width='25%'),\n",
    "    style = {'description_width': '150px'},\n",
    "    disabled=False\n",
    ")\n",
    "\n",
    "ScalingFactor = widgets.BoundedFloatText(\n",
    "    value=10000000,\n",
    "    min=0,\n",
    "    max=1000000000,\n",
    "    step=0.1,\n",
    "    description='Scaling Factor',\n",
    "    layout=Layout(width='25%'),\n",
    "    style = {'description_width': '150px'},\n",
    "    disabled=False\n",
    ")\n",
    "\n",
    "InitialCoverage1 = widgets.BoundedFloatText(\n",
    "    value=1,\n",
    "    min=0,\n",
    "    max=1,\n",
    "    step=0.01,\n",
    "    description='Initial Coverage',\n",
    "    layout=Layout(width='25%'),\n",
    "    style = {'description_width': '150px'},\n",
    "    disabled=False\n",
    ")\n",
    "\n",
    "DesorptionBarrier1 = widgets.BoundedFloatText(\n",
    "    value=0.7,\n",
    "    min=0,\n",
    "    max=10,\n",
    "    step=0.01,\n",
    "    description='Desorption Barrier (eV)',\n",
    "    layout=Layout(width='25%'),\n",
    "    style = {'description_width': '150px'},\n",
    "    disabled=False\n",
    ")\n",
    "\n",
    "Prefactor1 = widgets.BoundedFloatText(\n",
    "    value=1e10,\n",
    "    min=0,\n",
    "    max=1e30,\n",
    "    step=1,\n",
    "    description='Prefactor (Hz)',\n",
    "    layout=Layout(width='25%'),\n",
    "    style = {'description_width': '150px'},\n",
    "    disabled=False\n",
    ")\n",
    "\n",
    "ReactionOrder1 = widgets.BoundedFloatText(\n",
    "    value=1,\n",
    "    min=1,\n",
    "    max=2,\n",
    "    step=1,\n",
    "    description='Reaction Order',\n",
    "    layout=Layout(width='25%'),\n",
    "    style = {'description_width': '150px'},\n",
    "    disabled=False\n",
    ")\n",
    "\n",
    "InitialCoverage2 = widgets.BoundedFloatText(\n",
    "    value=0,\n",
    "    min=0,\n",
    "    max=1,\n",
    "    step=0.01,\n",
    "    description='Initial Coverage',\n",
    "    layout=Layout(width='25%'),\n",
    "    style = {'description_width': '150px'},\n",
    "    disabled=False\n",
    ")\n",
    "\n",
    "DesorptionBarrier2 = widgets.BoundedFloatText(\n",
    "    value=0.5,\n",
    "    min=0,\n",
    "    max=10,\n",
    "    step=0.01,\n",
    "    description='Desorption Barrier (eV)',\n",
    "    layout=Layout(width='25%'),\n",
    "    style = {'description_width': '150px'},\n",
    "    disabled=False\n",
    ")\n",
    "\n",
    "Prefactor2 = widgets.BoundedFloatText(\n",
    "    value=1e10,\n",
    "    min=0,\n",
    "    max=1e30,\n",
    "    step=1,\n",
    "    description='Prefactor (Hz)',\n",
    "    layout=Layout(width='25%'),\n",
    "    style = {'description_width': '150px'},\n",
    "    disabled=False\n",
    ")\n",
    "\n",
    "ReactionOrder2 = widgets.BoundedFloatText(\n",
    "    value=1,\n",
    "    min=1,\n",
    "    max=2,\n",
    "    step=1,\n",
    "    description='Reaction Order',\n",
    "    layout=Layout(width='25%'),\n",
    "    style = {'description_width': '150px'},\n",
    "    disabled=False\n",
    ")\n",
    "\n",
    "SimulateTrace = widgets.Button(description=\"Simulate Trace\")\n",
    "SimulateTrace.on_click(SimulateTrace_Clicked)\n",
    "\n",
    "display(widgets.Box([Offset,ScalingFactor]))\n",
    "display(widgets.Box([InitialCoverage1,DesorptionBarrier1,Prefactor1,ReactionOrder1]))\n",
    "display(widgets.Box([InitialCoverage2,DesorptionBarrier2,Prefactor2,ReactionOrder2]))\n",
    "\n",
    "display(SimulateTrace)\n",
    "\n",
    "out = widgets.Output()\n",
    "\n",
    "##### Plot Data #####\n",
    "\n",
    "with out :\n",
    "    fig = px.line(Data,x='Temperature (K)',y=Data.columns)\n",
    "    fig.update_layout(yaxis_title='Intensity (au)',title_text=tds.Parameters['Description'],legend_title='',height=500)\n",
    "    fig.show()\n",
    "\n",
    "out"
   ]
  },
  {
   "cell_type": "code",
   "execution_count": 10,
   "metadata": {},
   "outputs": [
    {
     "name": "stdout",
     "output_type": "stream",
     "text": [
      "Base is : 12308.0\n",
      "Base integration check is : -784.9920000000129\n",
      "integrated value is : 2863565.6959999837\n"
     ]
    }
   ],
   "source": [
    "\n",
    "#Make indexes nice to work with\n",
    "def indexTrim(Data) :\n",
    "    boo = np.zeros(len(Data), int)\n",
    "    for a, b in enumerate(boo) :\n",
    "        boo[a] = a\n",
    "    Data = Data.set_index(boo)\n",
    "    return Data\n",
    "\n",
    "#picking a range\n",
    "def DataRange(d, lower, upper) :\n",
    "    td = d.iloc[lower:upper]\n",
    "    return td\n",
    "\n",
    "#find mean of points in a dataframe for a given mass\n",
    "def Baseline(d, mass) :\n",
    "    base = np.mean(d[mass])\n",
    "    return base\n",
    "\n",
    "def integrate(d, base, mass) :\n",
    "    #get deltaT by just taking the difference between first two temp values\n",
    "\n",
    "    integrateSum = 0\n",
    "    first = 0\n",
    "    \n",
    "    while first < len(d)-1 :\n",
    "        deltaT = d['Temperature (K)'].values[1] -d['Temperature (K)'].values[0]\n",
    "        #print(first)\n",
    "        second =  first + 1\n",
    "\n",
    "        y1 = float(d[mass].values[first])\n",
    "        y2 = float(d[mass].values[second])\n",
    "        deltaY = y2-y1\n",
    "  \n",
    "        rectA = deltaT * (y1-base)\n",
    "        triA = deltaT * (deltaY)/2\n",
    "\n",
    "        integrateSum = integrateSum + rectA + triA\n",
    "        first = first + 1\n",
    "        \n",
    "    return integrateSum\n",
    "\n",
    "\n",
    "d = indexTrim(Data)\n",
    "baserange = DataRange(d, 50, 100)\n",
    "base = Baseline(baserange, 'Mass 28')\n",
    "print('Base is :', base)\n",
    "print('Base integration check is :', integrate(baserange, base, 'Mass 28'))\n",
    "print('integrated value is :', integrate(d, base, 'Mass 28'))"
   ]
  },
  {
   "cell_type": "code",
   "execution_count": 9,
   "metadata": {},
   "outputs": [
    {
     "data": {
      "text/plain": [
       "2868237.567999986"
      ]
     },
     "execution_count": 9,
     "metadata": {},
     "output_type": "execute_result"
    }
   ],
   "source": [
    "(np.sum(Data['Mass 28']-12308.0))*(Data['Temperature (K)'].values[1] -Data['Temperature (K)'].values[0])"
   ]
  },
  {
   "cell_type": "code",
   "execution_count": null,
   "metadata": {},
   "outputs": [],
   "source": []
  }
 ],
 "metadata": {
  "kernelspec": {
   "display_name": "Python 3",
   "language": "python",
   "name": "python3"
  },
  "language_info": {
   "codemirror_mode": {
    "name": "ipython",
    "version": 3
   },
   "file_extension": ".py",
   "mimetype": "text/x-python",
   "name": "python",
   "nbconvert_exporter": "python",
   "pygments_lexer": "ipython3",
   "version": "3.7.4"
  }
 },
 "nbformat": 4,
 "nbformat_minor": 4
}

{
 "cells": [
  {
   "cell_type": "markdown",
   "metadata": {},
   "source": [
    "# Info\n",
    "\n",
    "This script analyzes TPD data. \n",
    "\n",
    "Uses:\n",
    "- lmfit\n",
    "- igor\n",
    "\n",
    "\n",
    "-----------------------\n",
    "Created by Jerry LaRue, larue@chapman.edu, 12/2018\n",
    "\n",
    "Last modified by Jerry LaRue, larue@chapman.edu, 07/2020"
   ]
  },
  {
   "cell_type": "markdown",
   "metadata": {},
   "source": [
    "# Select file"
   ]
  },
  {
   "cell_type": "code",
   "execution_count": 1,
   "metadata": {
    "jupyter": {
     "source_hidden": true
    }
   },
   "outputs": [
    {
     "data": {
      "application/vnd.jupyter.widget-view+json": {
       "model_id": "01744c379e4d4abbb0c0f991be291c5a",
       "version_major": 2,
       "version_minor": 0
      },
      "text/plain": [
       "Dropdown(description='Select File', layout=Layout(width='70%'), options=('TPD181019_01 - CH3OH_O2_Ni', 'TPD181…"
      ]
     },
     "metadata": {},
     "output_type": "display_data"
    }
   ],
   "source": [
    "import numpy as np\n",
    "import igor.igorpy as igor\n",
    "import os\n",
    "from os import listdir\n",
    "from os.path import isfile, join\n",
    "import sys\n",
    "import matplotlib.pyplot as plt\n",
    "import ipywidgets as widgets\n",
    "from ipywidgets import Button, Layout\n",
    "from IPython.display import clear_output\n",
    "import math\n",
    "import struct\n",
    "from importlib import reload\n",
    "import plotly.express as px\n",
    "from pandas import DataFrame as df\n",
    "\n",
    "sys.path.append(os.getcwd() + '/Tools/')\n",
    "import TDSTools\n",
    "reload(TDSTools)\n",
    "\n",
    "dt = TDSTools.DataTools()\n",
    "\n",
    "ParameterFolder = os.getcwd()+'/TDS'\n",
    "\n",
    "##### Widgets #####\n",
    "\n",
    "ParameterFile = widgets.Dropdown(\n",
    "    options=dt.FileList(ParameterFolder,['.yaml']),\n",
    "    description='Select File',\n",
    "    layout=Layout(width='70%'),\n",
    "    style = {'description_width': '150px'},\n",
    "    disabled=False,\n",
    ")\n",
    "\n",
    "display(ParameterFile)\n",
    "\n",
    "##### Functions #####\n",
    "\n",
    "def FileList() :\n",
    "    return [f for f in listdir(FolderPath.value) if isfile(join(FolderPath.value, f))]"
   ]
  },
  {
   "cell_type": "code",
   "execution_count": 2,
   "metadata": {
    "jupyter": {
     "source_hidden": true
    }
   },
   "outputs": [
    {
     "data": {
      "application/vnd.jupyter.widget-view+json": {
       "model_id": "9ef2282c083d4bf4be8a4065f22da3e6",
       "version_major": 2,
       "version_minor": 0
      },
      "text/plain": [
       "Box(children=(BoundedFloatText(value=1.0, description='Initial Coverage', layout=Layout(width='30%'), max=1.0,…"
      ]
     },
     "metadata": {},
     "output_type": "display_data"
    },
    {
     "data": {
      "application/vnd.jupyter.widget-view+json": {
       "model_id": "0db5e4e879614eb6a680924908357610",
       "version_major": 2,
       "version_minor": 0
      },
      "text/plain": [
       "Box(children=(BoundedFloatText(value=0.7, description='Desorption Barrier (eV)', layout=Layout(width='30%'), m…"
      ]
     },
     "metadata": {},
     "output_type": "display_data"
    },
    {
     "data": {
      "application/vnd.jupyter.widget-view+json": {
       "model_id": "40b561afe2544d80ad9b71b9a6f0600d",
       "version_major": 2,
       "version_minor": 0
      },
      "text/plain": [
       "Button(description='Simulate Trace', style=ButtonStyle())"
      ]
     },
     "metadata": {},
     "output_type": "display_data"
    },
    {
     "data": {
      "application/vnd.jupyter.widget-view+json": {
       "model_id": "f2016bebecd944d0a4889cf418c5da11",
       "version_major": 2,
       "version_minor": 0
      },
      "text/plain": [
       "Output()"
      ]
     },
     "metadata": {},
     "output_type": "display_data"
    }
   ],
   "source": [
    "##### Load Data #####\n",
    "\n",
    "tds = TDSTools.TDS((ParameterFolder,ParameterFile.value))\n",
    "Data = tds.Data\n",
    "Data = dt.TrimData(Data,115,2000)\n",
    "Masses = tds.Parameters['Masses']\n",
    "\n",
    "##### Functions #####\n",
    "\n",
    "def SimulateTrace_Clicked(b) :\n",
    "    with out :\n",
    "        clear_output(True)\n",
    "        \n",
    "        try :\n",
    "            tds.Parameters['HeatingRate'][0]\n",
    "        except : \n",
    "            Rate = 60                 # K/min\n",
    "        else :\n",
    "            Rate = tds.Parameters['HeatingRate'][0]\n",
    "        \n",
    "        kB = 8.617e-5                 # eV/K\n",
    "        IntRate = 0\n",
    "        Ni = InitialCoverage.value\n",
    "        Ea = DesorptionBarrier.value\n",
    "        nu = Prefactor.value\n",
    "        n = ReactionOrder.value\n",
    "        yOffset = Offset.value\n",
    "\n",
    "        Size = len(Data)\n",
    "\n",
    "        Time = np.zeros((Size))\n",
    "        Trace = np.zeros((Size))\n",
    "        Coverage = np.zeros((Size))\n",
    "\n",
    "        for idx, Temperature in enumerate(Data['Temperature (K)']) :\n",
    "            Trace[idx] = nu*(Ni - IntRate)**n * np.exp(-Ea/(kB*Temperature))\n",
    "            if idx != 0 :\n",
    "                Time[idx] = PreviousTime + (Temperature - PreviousTemperature) / Rate\n",
    "                IntRate += Trace[idx] * (Temperature - PreviousTemperature)\n",
    "            Coverage[idx] = Ni - IntRate\n",
    "            if IntRate >= Ni :\n",
    "                IntRate = Ni\n",
    "                Coverage[idx] = 0\n",
    "            if Coverage[idx] < 0 or Coverage[idx] > Ni :\n",
    "                Coverage[idx] = 0\n",
    "                Trace[idx] = 0\n",
    "            PreviousTime = Time[idx]\n",
    "            PreviousTemperature = Temperature\n",
    "\n",
    "        Data['Sim'] = Trace*ScalingFactor.value + yOffset\n",
    "        fig = px.line(Data,x='Temperature (K)',y=Data.columns)\n",
    "        fig.update_layout(yaxis_title='Intensity (au)',title_text=tds.Parameters['Description']+' with simulated trace',legend_title='',height=500)\n",
    "        fig.show()\n",
    "\n",
    "        CoverageSim = np.array((Data['Temperature (K)'].values,Coverage))\n",
    "        CoverageSim = df(np.transpose(CoverageSim),columns=('Temperature (K)','Coverage'))\n",
    "        fig = px.line(CoverageSim,x='Temperature (K)',y=CoverageSim.columns)\n",
    "        fig.update_layout(yaxis_title='Coverage',showlegend=False,height=100)\n",
    "        fig.show()\n",
    "\n",
    "##### Widgets #####\n",
    "\n",
    "InitialCoverage = widgets.BoundedFloatText(\n",
    "    value=1,\n",
    "    min=0,\n",
    "    max=1,\n",
    "    step=0.01,\n",
    "    description='Initial Coverage',\n",
    "    layout=Layout(width='30%'),\n",
    "    style = {'description_width': '160px'},\n",
    "    disabled=False\n",
    ")\n",
    "\n",
    "Offset = widgets.BoundedFloatText(\n",
    "    value=0,\n",
    "    min=0,\n",
    "    max=1000000,\n",
    "    step=0.1,\n",
    "    description='Offset',\n",
    "    layout=Layout(width='30%'),\n",
    "    style = {'description_width': '170px'},\n",
    "    disabled=False\n",
    ")\n",
    "\n",
    "ScalingFactor = widgets.BoundedFloatText(\n",
    "    value=10000000,\n",
    "    min=0,\n",
    "    max=1000000000,\n",
    "    step=0.1,\n",
    "    description='Scaling Factor',\n",
    "    layout=Layout(width='30%'),\n",
    "    style = {'description_width': '160px'},\n",
    "    disabled=False\n",
    ")\n",
    "\n",
    "DesorptionBarrier = widgets.BoundedFloatText(\n",
    "    value=0.7,\n",
    "    min=0,\n",
    "    max=10,\n",
    "    step=0.01,\n",
    "    description='Desorption Barrier (eV)',\n",
    "    layout=Layout(width='30%'),\n",
    "    style = {'description_width': '170px'},\n",
    "    disabled=False\n",
    ")\n",
    "\n",
    "Prefactor = widgets.BoundedFloatText(\n",
    "    value=1e6,\n",
    "    min=0,\n",
    "    max=1e10,\n",
    "    step=1,\n",
    "    description='Prefactor (Hz)',\n",
    "    layout=Layout(width='30%'),\n",
    "    style = {'description_width': '160px'},\n",
    "    disabled=False\n",
    ")\n",
    "\n",
    "ReactionOrder = widgets.BoundedFloatText(\n",
    "    value=1,\n",
    "    min=1,\n",
    "    max=2,\n",
    "    step=1,\n",
    "    description='Reaction Order',\n",
    "    layout=Layout(width='30%'),\n",
    "    style = {'description_width': '160px'},\n",
    "    disabled=False\n",
    ")\n",
    "\n",
    "SimulateTrace = widgets.Button(description=\"Simulate Trace\")\n",
    "SimulateTrace.on_click(SimulateTrace_Clicked)\n",
    "\n",
    "display(widgets.Box([InitialCoverage,Offset,ScalingFactor]))\n",
    "display(widgets.Box([DesorptionBarrier,Prefactor,ReactionOrder]))\n",
    "\n",
    "display(SimulateTrace)\n",
    "\n",
    "out = widgets.Output()\n",
    "\n",
    "##### Plot Data #####\n",
    "\n",
    "with out :\n",
    "    fig = px.line(Data,x='Temperature (K)',y=Data.columns)\n",
    "    fig.update_layout(yaxis_title='Intensity (au)',title_text=tds.Parameters['Description'],legend_title='',height=500)\n",
    "    fig.show()\n",
    "\n",
    "out"
   ]
  },
  {
   "cell_type": "code",
   "execution_count": null,
   "metadata": {
    "jupyter": {
     "source_hidden": true
    }
   },
   "outputs": [],
   "source": []
  }
 ],
 "metadata": {
  "kernelspec": {
   "display_name": "Python 3",
   "language": "python",
   "name": "python3"
  },
  "language_info": {
   "codemirror_mode": {
    "name": "ipython",
    "version": 3
   },
   "file_extension": ".py",
   "mimetype": "text/x-python",
   "name": "python",
   "nbconvert_exporter": "python",
   "pygments_lexer": "ipython3",
   "version": "3.7.4"
  }
 },
 "nbformat": 4,
 "nbformat_minor": 4
}

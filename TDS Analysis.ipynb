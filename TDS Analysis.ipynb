{
 "cells": [
  {
   "cell_type": "markdown",
   "metadata": {},
   "source": [
    "<h1>TDS Analysis</h1>"
   ]
  },
  {
   "cell_type": "markdown",
   "metadata": {},
   "source": [
    "<h2>Select file</h2>"
   ]
  },
  {
   "cell_type": "code",
   "execution_count": 1,
   "metadata": {
    "jupyter": {
     "source_hidden": true
    }
   },
   "outputs": [
    {
     "data": {
      "application/vnd.jupyter.widget-view+json": {
       "model_id": "1bfdfe67509f40b49b95f9da66fe1b2f",
       "version_major": 2,
       "version_minor": 0
      },
      "text/plain": [
       "Dropdown(description='Select File', layout=Layout(width='70%'), options=('TPD181019_01 - CH3OH_O2_Ni', 'TPD181…"
      ]
     },
     "metadata": {},
     "output_type": "display_data"
    }
   ],
   "source": [
    "import numpy as np\n",
    "import igor.igorpy as igor\n",
    "import os\n",
    "from os import listdir\n",
    "from os.path import isfile, join\n",
    "import sys\n",
    "import matplotlib.pyplot as plt\n",
    "import ipywidgets as widgets\n",
    "from ipywidgets import Button, Layout\n",
    "from IPython.display import clear_output\n",
    "import math\n",
    "import struct\n",
    "from importlib import reload\n",
    "import plotly.express as px\n",
    "import plotly.graph_objects as go\n",
    "import pandas as pd\n",
    "from pandas import DataFrame as df\n",
    "\n",
    "sys.path.append(os.getcwd() + '/Tools/')\n",
    "import TDSTools\n",
    "reload(TDSTools)\n",
    "\n",
    "dt = TDSTools.DataTools()\n",
    "\n",
    "ParameterFolder = os.getcwd()+'/TDS'\n",
    "\n",
    "##### Widgets #####\n",
    "\n",
    "ParameterFile = widgets.Dropdown(\n",
    "    options=dt.FileList(ParameterFolder,['.yaml']),\n",
    "    description='Select File',\n",
    "    layout=Layout(width='70%'),\n",
    "    style = {'description_width': '150px'},\n",
    "    disabled=False,\n",
    ")\n",
    "\n",
    "display(ParameterFile)\n",
    "\n",
    "##### Functions #####\n",
    "\n",
    "def FileList() :\n",
    "    return [f for f in listdir(FolderPath.value) if isfile(join(FolderPath.value, f))]"
   ]
  },
  {
   "cell_type": "markdown",
   "metadata": {},
   "source": [
    "<h2>TDS traces</h2>"
   ]
  },
  {
   "cell_type": "code",
   "execution_count": 9,
   "metadata": {},
   "outputs": [
    {
     "data": {
      "application/vnd.jupyter.widget-view+json": {
       "model_id": "404ab52e8b99427f99b3777ab7cb75d2",
       "version_major": 2,
       "version_minor": 0
      },
      "text/plain": [
       "Box(children=(Button(description='Simulate Traces', style=ButtonStyle()), FloatText(value=0.684, description='…"
      ]
     },
     "metadata": {},
     "output_type": "display_data"
    },
    {
     "data": {
      "application/vnd.jupyter.widget-view+json": {
       "model_id": "483c598ca60b47d7a6c5ef03f8e1e08f",
       "version_major": 2,
       "version_minor": 0
      },
      "text/plain": [
       "Output()"
      ]
     },
     "metadata": {},
     "output_type": "display_data"
    }
   ],
   "source": [
    "##### Parameters #####\n",
    "\n",
    "MinTemperature = 115\n",
    "MaxTemperature = 2000\n",
    "\n",
    "##### Load Data #####\n",
    "\n",
    "reload(TDSTools)\n",
    "dt = TDSTools.DataTools()\n",
    "\n",
    "tds = TDSTools.TDS((ParameterFolder,ParameterFile.value))\n",
    "Data = tds.Data\n",
    "Data = dt.TrimData(Data,MinTemperature,MaxTemperature)\n",
    "Masses = tds.Parameters['Masses']\n",
    "\n",
    "##### Functions #####\n",
    "\n",
    "def SimulateTrace_Clicked(b) :\n",
    "    with out :\n",
    "        clear_output(True)\n",
    "        \n",
    "        reload(TDSTools)\n",
    "        dt = TDSTools.DataTools()\n",
    "        tds = TDSTools.TDS((ParameterFolder,ParameterFile.value))\n",
    "        tds.SimulateData(HeatingRate.value)\n",
    "        SimulatedData = dt.TrimData(tds.SimulatedData,MinTemperature,MaxTemperature)\n",
    "\n",
    "        fig = go.Figure()\n",
    "        for Trace in Data :\n",
    "            if Trace != 'Time (s)' :\n",
    "                fig.add_trace(go.Scatter(x=Data.index,y=Data[Trace],name=Trace,mode='lines'))\n",
    "        for Trace in SimulatedData :\n",
    "            fig.add_trace(go.Scatter(x=SimulatedData.index,y=SimulatedData[Trace],name=Trace,mode='lines'))\n",
    "        fig.update_layout(xaxis_title='Temperature (K)',yaxis_title='Fit Value',title=tds.Parameters['Description'],legend_title='')\n",
    "        fig.show()\n",
    "\n",
    "        fig = px.line(tds.SimulatedCoverages)\n",
    "        fig.update_layout(yaxis_title='Coverage',showlegend=False,height=100)\n",
    "        fig.show()\n",
    "\n",
    "##### Widgets #####\n",
    "\n",
    "HeatingRate = widgets.FloatText(\n",
    "    value=np.around(tds.Parameters['HeatingRate'],3),\n",
    "    description='Heating Rate (K/s):',\n",
    "    layout=Layout(width='20%'),\n",
    "    style = {'description_width': '140px'},\n",
    "    disabled=False\n",
    ")\n",
    "\n",
    "SimulateTrace = widgets.Button(description=\"Simulate Traces\")\n",
    "SimulateTrace.on_click(SimulateTrace_Clicked)\n",
    "\n",
    "display(widgets.Box([SimulateTrace,HeatingRate]))\n",
    "\n",
    "out = widgets.Output()\n",
    "\n",
    "##### Plot Data #####\n",
    "\n",
    "with out :\n",
    "    fig = go.Figure()\n",
    "    for Trace in Data :\n",
    "        if Trace != 'Time (s)' :\n",
    "            fig.add_trace(go.Scatter(x=Data.index,y=Data[Trace],name=Trace,mode='lines'))\n",
    "    fig.update_layout(xaxis_title='Temperature (K)',yaxis_title='Fit Value',title=tds.Parameters['Description'],legend_title='')\n",
    "    fig.show()\n",
    "\n",
    "out"
   ]
  },
  {
   "cell_type": "markdown",
   "metadata": {},
   "source": [
    "<h2>Numerically integrate traces</h2>"
   ]
  },
  {
   "cell_type": "code",
   "execution_count": 74,
   "metadata": {
    "jupyter": {
     "source_hidden": true
    }
   },
   "outputs": [
    {
     "name": "stdout",
     "output_type": "stream",
     "text": [
      "Base is : 14688.0\n",
      "Base integration check is : -712.0\n",
      "integrated value is : 3095768.0\n"
     ]
    }
   ],
   "source": [
    "\n",
    "#Make indexes nice to work with\n",
    "def indexTrim(Data) :\n",
    "    boo = np.zeros(len(Data), int)\n",
    "    for a, b in enumerate(boo) :\n",
    "        boo[a] = a\n",
    "    Data = Data.set_index(boo)\n",
    "    return Data\n",
    "\n",
    "#picking a range\n",
    "def DataRange(d, lower, upper) :\n",
    "    td = d.iloc[lower:upper]\n",
    "    return td\n",
    "\n",
    "#find mean of points in a dataframe for a given mass\n",
    "def Baseline(d, mass) :\n",
    "    base = np.mean(d[mass])\n",
    "    return base\n",
    "\n",
    "def integrate(d, base, mass) :\n",
    "    #get deltaT by just taking the difference between first two temp values\n",
    "\n",
    "    integrateSum = 0\n",
    "    first = 0\n",
    "    \n",
    "    while first < len(d)-1 :\n",
    "        deltaT = d.index.values[1] -d.index.values[0]\n",
    "        #print(first)\n",
    "        second =  first + 1\n",
    "\n",
    "        y1 = float(d[mass].values[first])\n",
    "        y2 = float(d[mass].values[second])\n",
    "        deltaY = y2-y1\n",
    "  \n",
    "        rectA = deltaT * (y1-base)\n",
    "        triA = deltaT * (deltaY)/2\n",
    "\n",
    "        integrateSum = integrateSum + rectA + triA\n",
    "        first = first + 1\n",
    "        \n",
    "    return integrateSum\n",
    "\n",
    "d = indexTrim(Data)\n",
    "baserange = DataRange(d, 50, 100)\n",
    "base = Baseline(baserange, 'Mass 28')\n",
    "print('Base is :', base)\n",
    "print('Base integration check is :', integrate(baserange, base, 'Mass 28'))\n",
    "print('integrated value is :', integrate(d, base, 'Mass 28'))"
   ]
  },
  {
   "cell_type": "markdown",
   "metadata": {},
   "source": [
    "<h2>File info</h2>\n",
    "\n",
    "This script analyzes TPD data. \n",
    "\n",
    "The following external packages must be installed:\n",
    "- lmfit\n",
    "- igor\n",
    "- plotly\n",
    "- xarray\n",
    "\n",
    "-----------------------\n",
    "Created by Jerry LaRue, larue@chapman.edu, 12/2018\n",
    "\n",
    "Last modified by Jerry LaRue, larue@chapman.edu, 09/2020"
   ]
  },
  {
   "cell_type": "markdown",
   "metadata": {
    "jupyter": {
     "source_hidden": true
    }
   },
   "source": []
  }
 ],
 "metadata": {
  "kernelspec": {
   "display_name": "Python 3",
   "language": "python",
   "name": "python3"
  },
  "language_info": {
   "codemirror_mode": {
    "name": "ipython",
    "version": 3
   },
   "file_extension": ".py",
   "mimetype": "text/x-python",
   "name": "python",
   "nbconvert_exporter": "python",
   "pygments_lexer": "ipython3",
   "version": "3.8.3"
  }
 },
 "nbformat": 4,
 "nbformat_minor": 4
}
